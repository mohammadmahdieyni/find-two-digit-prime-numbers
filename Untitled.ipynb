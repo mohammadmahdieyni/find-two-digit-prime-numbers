{
 "cells": [
  {
   "cell_type": "code",
   "execution_count": 36,
   "id": "6c39e6b3-09a8-4103-a7ed-48e84fd00deb",
   "metadata": {},
   "outputs": [
    {
     "name": "stdout",
     "output_type": "stream",
     "text": [
      "4\n"
     ]
    }
   ],
   "source": [
    "t = \"232151293111716119\"\n",
    "\n",
    "numList = list(t)\n",
    "\n",
    "for i in range(len(t)):\n",
    "    \n",
    "    a = 1\n",
    "    \n",
    "    if i == 17:\n",
    "        a = 0\n",
    "    \n",
    "    num = (t[i]+t[i+a])\n",
    "    num1 = int(num)\n",
    "    \n",
    "    primeDetect = 0\n",
    "    primeNums = 0\n",
    "    \n",
    "    \n",
    "    \n",
    "    for i in range(1, num1+1):\n",
    "        if num1 % i == 0:\n",
    "            primeDetect += 1\n",
    "            \n",
    "            if primeDetect > 2:\n",
    "                primeNums += 1\n",
    "\n",
    "print(primeNums)\n"
   ]
  },
  {
   "cell_type": "code",
   "execution_count": null,
   "id": "3d5407f2-6da1-409e-8393-10a5c0c69faa",
   "metadata": {},
   "outputs": [],
   "source": []
  },
  {
   "cell_type": "code",
   "execution_count": null,
   "id": "5c597304-6253-44f9-81d9-af41277b2ed7",
   "metadata": {},
   "outputs": [],
   "source": []
  }
 ],
 "metadata": {
  "kernelspec": {
   "display_name": "Python 3 (ipykernel)",
   "language": "python",
   "name": "python3"
  },
  "language_info": {
   "codemirror_mode": {
    "name": "ipython",
    "version": 3
   },
   "file_extension": ".py",
   "mimetype": "text/x-python",
   "name": "python",
   "nbconvert_exporter": "python",
   "pygments_lexer": "ipython3",
   "version": "3.9.0"
  }
 },
 "nbformat": 4,
 "nbformat_minor": 5
}
